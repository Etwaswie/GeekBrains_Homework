{
  "nbformat": 4,
  "nbformat_minor": 0,
  "metadata": {
    "colab": {
      "provenance": []
    },
    "kernelspec": {
      "name": "python3",
      "display_name": "Python 3"
    },
    "language_info": {
      "name": "python"
    }
  },
  "cells": [
    {
      "cell_type": "markdown",
      "source": [
        "Импортируем необходимые библиотеки и создадим функции"
      ],
      "metadata": {
        "id": "OGfHfO0pTd2R"
      }
    },
    {
      "cell_type": "code",
      "source": [
        "def Healthcare_1_fillna(dataset, mean_Healthcare_1):\n",
        "    for item in dataset['DistrictId'].unique():\n",
        "      ind = dataset[dataset['DistrictId'] == item].loc[:, 'Healthcare_1'].value_counts()#.to_list()# получаю все значения\n",
        "\n",
        "      if len(ind) == 0:\n",
        "        dataset.loc[(dataset['DistrictId'] == item), \"Healthcare_1\"] = mean_Healthcare_1 #если для данного района вообще нет значений Healthcare_1, то ставлю вместо NaN среднее по всем районам\n",
        "      else:\n",
        "        i = ind.index.values.astype(int)[0] #выбираю наиболее частое\n",
        "        dataset.loc[(dataset['DistrictId'] == item), \"Healthcare_1\"] = i # если же есть какие-то значения, то ставлю вместо NaN наиболее частое"
      ],
      "metadata": {
        "id": "fPIs0cvmLT1f"
      },
      "execution_count": 1773,
      "outputs": []
    },
    {
      "cell_type": "code",
      "source": [
        "def abc_replace(dataset):\n",
        "  dataset.loc[dataset[\"Shops_2\"] == \"A\", \"Shops_2\"] = 1\n",
        "  dataset.loc[dataset[\"Shops_2\"] == \"B\", \"Shops_2\"] = 0\n",
        "  dataset.loc[dataset[\"Ecology_2\"] == \"A\", \"Ecology_2\"] = 1\n",
        "  dataset.loc[dataset[\"Ecology_2\"] == \"B\", \"Ecology_2\"] = 0\n",
        "  dataset.loc[dataset[\"Ecology_3\"] == \"A\", \"Ecology_3\"] = 1\n",
        "  dataset.loc[dataset[\"Ecology_3\"] == \"B\", \"Ecology_3\"] = 0"
      ],
      "metadata": {
        "id": "-45uq0HTMxwm"
      },
      "execution_count": 1774,
      "outputs": []
    },
    {
      "cell_type": "code",
      "execution_count": 1775,
      "metadata": {
        "id": "PE4yLFM699Rg"
      },
      "outputs": [],
      "source": [
        "import numpy as np\n",
        "import pandas as pd\n",
        "import matplotlib as plt\n",
        "import matplotlib.pyplot as plt\n",
        "\n",
        "from sklearn.cluster import KMeans\n",
        "from sklearn import datasets\n",
        "from sklearn.model_selection import train_test_split\n",
        "from sklearn.ensemble import RandomForestRegressor\n",
        "import seaborn as sns\n",
        "from sklearn.model_selection import GridSearchCV\n",
        "from sklearn.metrics import r2_score"
      ]
    },
    {
      "cell_type": "markdown",
      "source": [
        "Загрузим датасеты train и test"
      ],
      "metadata": {
        "id": "UEF4sMhKTi8G"
      }
    },
    {
      "cell_type": "code",
      "source": [
        "data_train = pd.read_csv('https://gbcdn.mrgcdn.ru/uploads/asset/4599296/attachment/aea83f40902eab92c716be4f1e481101.csv')"
      ],
      "metadata": {
        "id": "XYjqLC_I-WMx"
      },
      "execution_count": 1776,
      "outputs": []
    },
    {
      "cell_type": "code",
      "source": [
        "data_test = pd.read_csv('https://gbcdn.mrgcdn.ru/uploads/asset/4599297/attachment/1123a688c4a8e96b52b804b800389096.csv')"
      ],
      "metadata": {
        "id": "Bgarc7kNNRd3"
      },
      "execution_count": 1777,
      "outputs": []
    },
    {
      "cell_type": "markdown",
      "source": [
        "Буквенные значения меняю на числовые"
      ],
      "metadata": {
        "id": "O9wlQHxFTmek"
      }
    },
    {
      "cell_type": "code",
      "source": [
        "abc_replace(data_train)"
      ],
      "metadata": {
        "id": "5CjoJL_jJ43J"
      },
      "execution_count": 1778,
      "outputs": []
    },
    {
      "cell_type": "markdown",
      "source": [
        "Видим, что есть пропущенные зачения"
      ],
      "metadata": {
        "id": "elG1js9cTq2S"
      }
    },
    {
      "cell_type": "code",
      "source": [
        "data_train.info()"
      ],
      "metadata": {
        "colab": {
          "base_uri": "https://localhost:8080/"
        },
        "id": "QfN3MsKU-u6h",
        "outputId": "031c68d3-0ca6-49a2-9a7f-5f3e69fd989e"
      },
      "execution_count": 1779,
      "outputs": [
        {
          "output_type": "stream",
          "name": "stdout",
          "text": [
            "<class 'pandas.core.frame.DataFrame'>\n",
            "RangeIndex: 10000 entries, 0 to 9999\n",
            "Data columns (total 20 columns):\n",
            " #   Column         Non-Null Count  Dtype  \n",
            "---  ------         --------------  -----  \n",
            " 0   Id             10000 non-null  int64  \n",
            " 1   DistrictId     10000 non-null  int64  \n",
            " 2   Rooms          10000 non-null  float64\n",
            " 3   Square         10000 non-null  float64\n",
            " 4   LifeSquare     7887 non-null   float64\n",
            " 5   KitchenSquare  10000 non-null  float64\n",
            " 6   Floor          10000 non-null  int64  \n",
            " 7   HouseFloor     10000 non-null  float64\n",
            " 8   HouseYear      10000 non-null  int64  \n",
            " 9   Ecology_1      10000 non-null  float64\n",
            " 10  Ecology_2      10000 non-null  object \n",
            " 11  Ecology_3      10000 non-null  object \n",
            " 12  Social_1       10000 non-null  int64  \n",
            " 13  Social_2       10000 non-null  int64  \n",
            " 14  Social_3       10000 non-null  int64  \n",
            " 15  Healthcare_1   5202 non-null   float64\n",
            " 16  Helthcare_2    10000 non-null  int64  \n",
            " 17  Shops_1        10000 non-null  int64  \n",
            " 18  Shops_2        10000 non-null  object \n",
            " 19  Price          10000 non-null  float64\n",
            "dtypes: float64(8), int64(9), object(3)\n",
            "memory usage: 1.5+ MB\n"
          ]
        }
      ]
    },
    {
      "cell_type": "markdown",
      "source": [
        "Посмотрим на наш целевой показатель"
      ],
      "metadata": {
        "id": "f7L9RvhlIxYY"
      }
    },
    {
      "cell_type": "code",
      "source": [
        "plt.figure(figsize = (20, 5))\n",
        "\n",
        "plt.subplot(121)\n",
        "data_train['Price'].hist(density=False, bins=20)\n",
        "plt.ylabel('Количество')\n",
        "plt.xlabel('Цена')\n",
        "\n",
        "plt.subplot(122)\n",
        "sns.kdeplot(data_train['Price'], shade=True, legend=False)\n",
        "plt.ylabel('Распределение')\n",
        "plt.xlabel('Цена')\n",
        "\n",
        "plt.suptitle('Распределение цен на квартиры')\n",
        "plt.show()"
      ],
      "metadata": {
        "colab": {
          "base_uri": "https://localhost:8080/",
          "height": 370
        },
        "id": "5SVjGihYHzaE",
        "outputId": "81382f51-106b-4220-f9d1-c22c4ee528de"
      },
      "execution_count": 1780,
      "outputs": [
        {
          "output_type": "display_data",
          "data": {
            "text/plain": [
              "<Figure size 1440x360 with 2 Axes>"
            ],
            "image/png": "[encoded data removed]"
          },
          "metadata": {
            "needs_background": "light"
          }
        }
      ]
    },
    {
      "cell_type": "markdown",
      "source": [
        "Посмотрим распределение по количеству комнат"
      ],
      "metadata": {
        "id": "ii9I2bgEb4c3"
      }
    },
    {
      "cell_type": "code",
      "source": [
        "plt.figure(figsize = (20, 10))\n",
        "\n",
        "plt.subplot(121)\n",
        "data_train['Rooms'].hist(density=False, bins=20)\n",
        "plt.ylabel('Количество')\n",
        "plt.xlabel('Количество комнат')\n",
        "plt.xlim(0, 6)"
      ],
      "metadata": {
        "colab": {
          "base_uri": "https://localhost:8080/",
          "height": 623
        },
        "id": "-1IODMq6bMTp",
        "outputId": "ed25efb1-3d2e-49d6-a00f-5637349abf4c"
      },
      "execution_count": 1781,
      "outputs": [
        {
          "output_type": "execute_result",
          "data": {
            "text/plain": [
              "(0.0, 6.0)"
            ]
          },
          "metadata": {},
          "execution_count": 1781
        },
        {
          "output_type": "display_data",
          "data": {
            "text/plain": [
              "<Figure size 1440x720 with 1 Axes>"
            ],
            "image/png": "[encoded data removed]"
          },
          "metadata": {
            "needs_background": "light"
          }
        }
      ]
    },
    {
      "cell_type": "code",
      "source": [
        "data_train['Rooms'].value_counts()"
      ],
      "metadata": {
        "colab": {
          "base_uri": "https://localhost:8080/"
        },
        "id": "YI4x4L70cxWo",
        "outputId": "f1dc90f1-b8fd-49ff-a7e6-1cc3ccdd4f15"
      },
      "execution_count": 1782,
      "outputs": [
        {
          "output_type": "execute_result",
          "data": {
            "text/plain": [
              "2.0     3880\n",
              "1.0     3705\n",
              "3.0     2235\n",
              "4.0      150\n",
              "5.0       18\n",
              "0.0        8\n",
              "10.0       2\n",
              "19.0       1\n",
              "6.0        1\n",
              "Name: Rooms, dtype: int64"
            ]
          },
          "metadata": {},
          "execution_count": 1782
        }
      ]
    },
    {
      "cell_type": "code",
      "source": [
        "plt.figure(figsize = (20, 10))\n",
        "sns.boxplot(data = data_train, y = 'Price', x = 'Rooms')"
      ],
      "metadata": {
        "colab": {
          "base_uri": "https://localhost:8080/",
          "height": 623
        },
        "id": "vYQMTssHc3un",
        "outputId": "fbaad412-2626-4426-9a54-2d1c8af3ecc9"
      },
      "execution_count": 1783,
      "outputs": [
        {
          "output_type": "execute_result",
          "data": {
            "text/plain": [
              "<matplotlib.axes._subplots.AxesSubplot at 0x7fdb53f76040>"
            ]
          },
          "metadata": {},
          "execution_count": 1783
        },
        {
          "output_type": "display_data",
          "data": {
            "text/plain": [
              "<Figure size 1440x720 with 1 Axes>"
            ],
            "image/png": "[encoded data removed]"
          },
          "metadata": {
            "needs_background": "light"
          }
        }
      ]
    },
    {
      "cell_type": "markdown",
      "source": [
        "Видим, что есть квартиры по 6, 10 и 19 комнат, но их цена и площадь выглядят ненастоящими, как выбросы или опечатки. Уберем их (возможно так делать нельзя, но предполагаю, что это повысит точность предсказания)"
      ],
      "metadata": {
        "id": "g3lBRniwqzSJ"
      }
    },
    {
      "cell_type": "code",
      "source": [
        "data_train = data_train[(data_train.Rooms < 6)]"
      ],
      "metadata": {
        "id": "Ir5SkucfoY3v"
      },
      "execution_count": 1784,
      "outputs": []
    },
    {
      "cell_type": "markdown",
      "source": [
        "Теперь соотношение цены и количества комнат более закономерно"
      ],
      "metadata": {
        "id": "7--uLOrDrKof"
      }
    },
    {
      "cell_type": "code",
      "source": [
        "plt.figure(figsize = (20, 10))\n",
        "sns.boxplot(data = data_train, y = 'Price', x = 'Rooms')"
      ],
      "metadata": {
        "colab": {
          "base_uri": "https://localhost:8080/",
          "height": 623
        },
        "id": "oCZ-2tdmb9cx",
        "outputId": "3ce5e0f3-786e-4f73-c3ba-2e3fce2fbddf"
      },
      "execution_count": 1785,
      "outputs": [
        {
          "output_type": "execute_result",
          "data": {
            "text/plain": [
              "<matplotlib.axes._subplots.AxesSubplot at 0x7fdb5351fa90>"
            ]
          },
          "metadata": {},
          "execution_count": 1785
        },
        {
          "output_type": "display_data",
          "data": {
            "text/plain": [
              "<Figure size 1440x720 with 1 Axes>"
            ],
            "image/png": "[encoded data removed]"
          },
          "metadata": {
            "needs_background": "light"
          }
        }
      ]
    },
    {
      "cell_type": "markdown",
      "source": [
        "Так же есть 1824 квартиры, которые расположены на \"несуществующем\" этаже, но мы не будем корректировать этот признак, так как он не оказывает такого существенного влияния на цену"
      ],
      "metadata": {
        "id": "PaBpnuuewm7z"
      }
    },
    {
      "cell_type": "code",
      "source": [
        "floors = pd.DataFrame(data_train['HouseFloor'] - data_train['Floor'])\n",
        "floors[floors[0] < 0]"
      ],
      "metadata": {
        "colab": {
          "base_uri": "https://localhost:8080/",
          "height": 424
        },
        "id": "ObjFGcwhtGO3",
        "outputId": "0b614987-36aa-4eee-c254-98edc7d579f3"
      },
      "execution_count": 1786,
      "outputs": [
        {
          "output_type": "execute_result",
          "data": {
            "text/plain": [
              "         0\n",
              "7    -14.0\n",
              "14    -1.0\n",
              "16    -1.0\n",
              "21   -14.0\n",
              "23    -2.0\n",
              "...    ...\n",
              "9984  -2.0\n",
              "9985  -9.0\n",
              "9989  -2.0\n",
              "9991  -1.0\n",
              "9995  -1.0\n",
              "\n",
              "[1824 rows x 1 columns]"
            ],
            "text/html": [
              "\n",
              "  <div id=\"df-1c34fb45-0a17-46bc-9add-9ead362a3f55\">\n",
              "    <div class=\"colab-df-container\">\n",
              "      <div>\n",
              "<style scoped>\n",
              "    .dataframe tbody tr th:only-of-type {\n",
              "        vertical-align: middle;\n",
              "    }\n",
              "\n",
              "    .dataframe tbody tr th {\n",
              "        vertical-align: top;\n",
              "    }\n",
              "\n",
              "    .dataframe thead th {\n",
              "        text-align: right;\n",
              "    }\n",
              "</style>\n",
              "<table border=\"1\" class=\"dataframe\">\n",
              "  <thead>\n",
              "    <tr style=\"text-align: right;\">\n",
              "      <th></th>\n",
              "      <th>0</th>\n",
              "    </tr>\n",
              "  </thead>\n",
              "  <tbody>\n",
              "    <tr>\n",
              "      <th>7</th>\n",
              "      <td>-14.0</td>\n",
              "    </tr>\n",
              "    <tr>\n",
              "      <th>14</th>\n",
              "      <td>-1.0</td>\n",
              "    </tr>\n",
              "    <tr>\n",
              "      <th>16</th>\n",
              "      <td>-1.0</td>\n",
              "    </tr>\n",
              "    <tr>\n",
              "      <th>21</th>\n",
              "      <td>-14.0</td>\n",
              "    </tr>\n",
              "    <tr>\n",
              "      <th>23</th>\n",
              "      <td>-2.0</td>\n",
              "    </tr>\n",
              "    <tr>\n",
              "      <th>...</th>\n",
              "      <td>...</td>\n",
              "    </tr>\n",
              "    <tr>\n",
              "      <th>9984</th>\n",
              "      <td>-2.0</td>\n",
              "    </tr>\n",
              "    <tr>\n",
              "      <th>9985</th>\n",
              "      <td>-9.0</td>\n",
              "    </tr>\n",
              "    <tr>\n",
              "      <th>9989</th>\n",
              "      <td>-2.0</td>\n",
              "    </tr>\n",
              "    <tr>\n",
              "      <th>9991</th>\n",
              "      <td>-1.0</td>\n",
              "    </tr>\n",
              "    <tr>\n",
              "      <th>9995</th>\n",
              "      <td>-1.0</td>\n",
              "    </tr>\n",
              "  </tbody>\n",
              "</table>\n",
              "<p>1824 rows × 1 columns</p>\n",
              "</div>\n",
              "      <button class=\"colab-df-convert\" onclick=\"convertToInteractive('df-1c34fb45-0a17-46bc-9add-9ead362a3f55')\"\n",
              "              title=\"Convert this dataframe to an interactive table.\"\n",
              "              style=\"display:none;\">\n",
              "        \n",
              "  <svg xmlns=\"http://www.w3.org/2000/svg\" height=\"24px\"viewBox=\"0 0 24 24\"\n",
              "       width=\"24px\">\n",
              "    <path d=\"M0 0h24v24H0V0z\" fill=\"none\"/>\n",
              "    <path d=\"M18.56 5.44l.94 2.06.94-2.06 2.06-.94-2.06-.94-.94-2.06-.94 2.06-2.06.94zm-11 1L8.5 8.5l.94-2.06 2.06-.94-2.06-.94L8.5 2.5l-.94 2.06-2.06.94zm10 10l.94 2.06.94-2.06 2.06-.94-2.06-.94-.94-2.06-.94 2.06-2.06.94z\"/><path d=\"M17.41 7.96l-1.37-1.37c-.4-.4-.92-.59-1.43-.59-.52 0-1.04.2-1.43.59L10.3 9.45l-7.72 7.72c-.78.78-.78 2.05 0 2.83L4 21.41c.39.39.9.59 1.41.59.51 0 1.02-.2 1.41-.59l7.78-7.78 2.81-2.81c.8-.78.8-2.07 0-2.86zM5.41 20L4 18.59l7.72-7.72 1.47 1.35L5.41 20z\"/>\n",
              "  </svg>\n",
              "      </button>\n",
              "      \n",
              "  <style>\n",
              "    .colab-df-container {\n",
              "      display:flex;\n",
              "      flex-wrap:wrap;\n",
              "      gap: 12px;\n",
              "    }\n",
              "\n",
              "    .colab-df-convert {\n",
              "      background-color: #E8F0FE;\n",
              "      border: none;\n",
              "      border-radius: 50%;\n",
              "      cursor: pointer;\n",
              "      display: none;\n",
              "      fill: #1967D2;\n",
              "      height: 32px;\n",
              "      padding: 0 0 0 0;\n",
              "      width: 32px;\n",
              "    }\n",
              "\n",
              "    .colab-df-convert:hover {\n",
              "      background-color: #E2EBFA;\n",
              "      box-shadow: 0px 1px 2px rgba(60, 64, 67, 0.3), 0px 1px 3px 1px rgba(60, 64, 67, 0.15);\n",
              "      fill: #174EA6;\n",
              "    }\n",
              "\n",
              "    [theme=dark] .colab-df-convert {\n",
              "      background-color: #3B4455;\n",
              "      fill: #D2E3FC;\n",
              "    }\n",
              "\n",
              "    [theme=dark] .colab-df-convert:hover {\n",
              "      background-color: #434B5C;\n",
              "      box-shadow: 0px 1px 3px 1px rgba(0, 0, 0, 0.15);\n",
              "      filter: drop-shadow(0px 1px 2px rgba(0, 0, 0, 0.3));\n",
              "      fill: #FFFFFF;\n",
              "    }\n",
              "  </style>\n",
              "\n",
              "      <script>\n",
              "        const buttonEl =\n",
              "          document.querySelector('#df-1c34fb45-0a17-46bc-9add-9ead362a3f55 button.colab-df-convert');\n",
              "        buttonEl.style.display =\n",
              "          google.colab.kernel.accessAllowed ? 'block' : 'none';\n",
              "\n",
              "        async function convertToInteractive(key) {\n",
              "          const element = document.querySelector('#df-1c34fb45-0a17-46bc-9add-9ead362a3f55');\n",
              "          const dataTable =\n",
              "            await google.colab.kernel.invokeFunction('convertToInteractive',\n",
              "                                                     [key], {});\n",
              "          if (!dataTable) return;\n",
              "\n",
              "          const docLinkHtml = 'Like what you see? Visit the ' +\n",
              "            '<a target=\"_blank\" href=https://colab.research.google.com/notebooks/data_table.ipynb>data table notebook</a>'\n",
              "            + ' to learn more about interactive tables.';\n",
              "          element.innerHTML = '';\n",
              "          dataTable['output_type'] = 'display_data';\n",
              "          await google.colab.output.renderOutput(dataTable, element);\n",
              "          const docLink = document.createElement('div');\n",
              "          docLink.innerHTML = docLinkHtml;\n",
              "          element.appendChild(docLink);\n",
              "        }\n",
              "      </script>\n",
              "    </div>\n",
              "  </div>\n",
              "  "
            ]
          },
          "metadata": {},
          "execution_count": 1786
        }
      ]
    },
    {
      "cell_type": "markdown",
      "source": [
        "Построим матрицу корреляции"
      ],
      "metadata": {
        "id": "hCsgMEvNZyLT"
      }
    },
    {
      "cell_type": "code",
      "source": [
        "plt.figure(figsize = (20, 16))\n",
        "corr = data_train.corr()\n",
        "sns.heatmap(corr, annot = True)"
      ],
      "metadata": {
        "colab": {
          "base_uri": "https://localhost:8080/",
          "height": 1000
        },
        "id": "KtkBgtA9Yln9",
        "outputId": "e8e897ea-eaf9-4d73-e17f-66fd9e860656"
      },
      "execution_count": 1787,
      "outputs": [
        {
          "output_type": "execute_result",
          "data": {
            "text/plain": [
              "<matplotlib.axes._subplots.AxesSubplot at 0x7fdb535bcbe0>"
            ]
          },
          "metadata": {},
          "execution_count": 1787
        },
        {
          "output_type": "display_data",
          "data": {
            "text/plain": [
              "<Figure size 1440x1152 with 2 Axes>"
            ],
            "image/png": "[encoded data removed]"
          },
          "metadata": {
            "needs_background": "light"
          }
        }
      ]
    },
    {
      "cell_type": "markdown",
      "source": [
        "Видим, что цена в наибольшей степени зависит от площади жилья и количества комнат"
      ],
      "metadata": {
        "id": "BAC36raFaCrg"
      }
    },
    {
      "cell_type": "markdown",
      "source": [
        "Для каждой строки вычисляем отношение жилой площади к общей"
      ],
      "metadata": {
        "id": "V4pSUtNSTzIQ"
      }
    },
    {
      "cell_type": "code",
      "source": [
        "data_train['LifeSquare_count'] = data_train['LifeSquare']/data_train['Square']"
      ],
      "metadata": {
        "id": "i-r0ycUt-2l7"
      },
      "execution_count": 1788,
      "outputs": []
    },
    {
      "cell_type": "markdown",
      "source": [
        "Берем среднее значение отношения жилой площади к общей"
      ],
      "metadata": {
        "id": "KIM3yGfTT69l"
      }
    },
    {
      "cell_type": "code",
      "source": [
        "mean_LifeSquare_count = data_train['LifeSquare_count'].mean()\n",
        "mean_LifeSquare_count"
      ],
      "metadata": {
        "colab": {
          "base_uri": "https://localhost:8080/"
        },
        "id": "b6pNSyHy_aLH",
        "outputId": "495061e1-af91-45be-ef2e-3fb122e05587"
      },
      "execution_count": 1789,
      "outputs": [
        {
          "output_type": "execute_result",
          "data": {
            "text/plain": [
              "0.6659163816418942"
            ]
          },
          "metadata": {},
          "execution_count": 1789
        }
      ]
    },
    {
      "cell_type": "markdown",
      "source": [
        "Заменяем пропущенные значения в столбце \"Жилая площадь\" при помощи вычисленного среднего отношения "
      ],
      "metadata": {
        "id": "L7s87J93UAAQ"
      }
    },
    {
      "cell_type": "code",
      "source": [
        "data_train.loc[:, 'LifeSquare'].fillna(data_train['Square']*mean_LifeSquare_count, inplace=True)"
      ],
      "metadata": {
        "id": "Ur3GgEC8DNGo"
      },
      "execution_count": 1790,
      "outputs": []
    },
    {
      "cell_type": "markdown",
      "source": [
        "Забираем целевые значения в Y"
      ],
      "metadata": {
        "id": "hYShd3PvUYf5"
      }
    },
    {
      "cell_type": "code",
      "source": [
        "Y = pd.DataFrame(data_train['Price'], columns=[\"Price\"])"
      ],
      "metadata": {
        "id": "K4yzmTVxIerD"
      },
      "execution_count": 1791,
      "outputs": []
    },
    {
      "cell_type": "markdown",
      "source": [
        "Убираем из датасета целевое значение и вспомогательный столбец"
      ],
      "metadata": {
        "id": "y4E6_9rpUfUo"
      }
    },
    {
      "cell_type": "code",
      "source": [
        "data_train.drop('LifeSquare_count', axis = 1, inplace=True)\n",
        "data_train.drop('Price', axis = 1, inplace=True)"
      ],
      "metadata": {
        "id": "yN8w8XWdDUvr"
      },
      "execution_count": 1792,
      "outputs": []
    },
    {
      "cell_type": "markdown",
      "source": [
        "Также есть пропуски в столбце Healthcare_1. Попробуем для каждого района заменить их на самый частый показатель. Если для какого-либо района нет ни одного значения, то заменим на среднее по всем районам"
      ],
      "metadata": {
        "id": "CVojhOzKU6oM"
      }
    },
    {
      "cell_type": "code",
      "source": [
        "mean_Healthcare_1 = data_train['Healthcare_1'].mean() # среднее значение Healthcare_1\n",
        "mean_Healthcare_1"
      ],
      "metadata": {
        "colab": {
          "base_uri": "https://localhost:8080/"
        },
        "id": "WnqMNxv_Q0FK",
        "outputId": "9d1dad10-bf7b-4db8-cc76-0026bec7e1ee"
      },
      "execution_count": 1793,
      "outputs": [
        {
          "output_type": "execute_result",
          "data": {
            "text/plain": [
              "1143.0840384615385"
            ]
          },
          "metadata": {},
          "execution_count": 1793
        }
      ]
    },
    {
      "cell_type": "code",
      "source": [
        "Healthcare_1_fillna(data_train, mean_Healthcare_1)"
      ],
      "metadata": {
        "id": "ttZAzKLkMYQ2"
      },
      "execution_count": 1794,
      "outputs": []
    },
    {
      "cell_type": "markdown",
      "source": [
        "Разделим датасет на train и valid"
      ],
      "metadata": {
        "id": "VoBTFr6HVXZC"
      }
    },
    {
      "cell_type": "code",
      "source": [
        "#from sklearn.preprocessing import StandardScaler\n",
        "#scaler = StandardScaler()\n",
        "#X_scaled = scaler.fit_transform(data_train)"
      ],
      "metadata": {
        "id": "aUVv_eHyTyXo"
      },
      "execution_count": 1795,
      "outputs": []
    },
    {
      "cell_type": "code",
      "source": [
        "X_train, X_valid, y_train, y_valid = train_test_split(data_train, Y, test_size=0.3)"
      ],
      "metadata": {
        "id": "uSitBUqcEP2P"
      },
      "execution_count": 1796,
      "outputs": []
    },
    {
      "cell_type": "code",
      "source": [
        "#from sklearn.preprocessing import StandardScaler\n",
        "#scaler = StandardScaler()\n",
        "#X_train_scaled = scaler.fit_transform(X_train)\n",
        "#X_valid_scaled = scaler.transform(X_valid)"
      ],
      "metadata": {
        "id": "d4vDLP--RWzE"
      },
      "execution_count": 1797,
      "outputs": []
    },
    {
      "cell_type": "code",
      "source": [
        "X_train.shape"
      ],
      "metadata": {
        "colab": {
          "base_uri": "https://localhost:8080/"
        },
        "id": "BWLImjWBHuOu",
        "outputId": "ff14d8b4-ef44-41ea-9df2-a922f15b1fe6"
      },
      "execution_count": 1798,
      "outputs": [
        {
          "output_type": "execute_result",
          "data": {
            "text/plain": [
              "(6997, 19)"
            ]
          },
          "metadata": {},
          "execution_count": 1798
        }
      ]
    },
    {
      "cell_type": "code",
      "source": [
        "X_valid.shape"
      ],
      "metadata": {
        "colab": {
          "base_uri": "https://localhost:8080/"
        },
        "id": "I231O6q4Hwp5",
        "outputId": "c8bbf707-812d-4a2b-c1ac-1f2073239a8f"
      },
      "execution_count": 1799,
      "outputs": [
        {
          "output_type": "execute_result",
          "data": {
            "text/plain": [
              "(2999, 19)"
            ]
          },
          "metadata": {},
          "execution_count": 1799
        }
      ]
    },
    {
      "cell_type": "code",
      "source": [
        "y_train.shape"
      ],
      "metadata": {
        "colab": {
          "base_uri": "https://localhost:8080/"
        },
        "id": "TFwepcb-JcvE",
        "outputId": "86177fe2-cb58-4688-a6cb-fb369bdbc6a5"
      },
      "execution_count": 1800,
      "outputs": [
        {
          "output_type": "execute_result",
          "data": {
            "text/plain": [
              "(6997, 1)"
            ]
          },
          "metadata": {},
          "execution_count": 1800
        }
      ]
    },
    {
      "cell_type": "code",
      "source": [
        "y_valid.shape"
      ],
      "metadata": {
        "colab": {
          "base_uri": "https://localhost:8080/"
        },
        "id": "IIzakoIHJfE-",
        "outputId": "58c71a8e-8333-410d-ea0f-1aea9fe48196"
      },
      "execution_count": 1801,
      "outputs": [
        {
          "output_type": "execute_result",
          "data": {
            "text/plain": [
              "(2999, 1)"
            ]
          },
          "metadata": {},
          "execution_count": 1801
        }
      ]
    },
    {
      "cell_type": "code",
      "source": [
        "data_train.columns.values"
      ],
      "metadata": {
        "colab": {
          "base_uri": "https://localhost:8080/"
        },
        "id": "7F9Hzi_jXIYX",
        "outputId": "007585e6-8c56-488b-a7fc-8d281557ab54"
      },
      "execution_count": 1802,
      "outputs": [
        {
          "output_type": "execute_result",
          "data": {
            "text/plain": [
              "array(['Id', 'DistrictId', 'Rooms', 'Square', 'LifeSquare',\n",
              "       'KitchenSquare', 'Floor', 'HouseFloor', 'HouseYear', 'Ecology_1',\n",
              "       'Ecology_2', 'Ecology_3', 'Social_1', 'Social_2', 'Social_3',\n",
              "       'Healthcare_1', 'Helthcare_2', 'Shops_1', 'Shops_2'], dtype=object)"
            ]
          },
          "metadata": {},
          "execution_count": 1802
        }
      ]
    },
    {
      "cell_type": "markdown",
      "source": [
        "Брала линейную регрессию, но у меня она получила очень плохой результат, включать не стала"
      ],
      "metadata": {
        "id": "GyyLytXrxF-u"
      }
    },
    {
      "cell_type": "markdown",
      "source": [
        "Зададим параметры для перебора в GridSearchCV"
      ],
      "metadata": {
        "id": "wpXE0oUtKKK0"
      }
    },
    {
      "cell_type": "code",
      "source": [
        "parameters = {\n",
        "    'n_estimators': [150, 200, 250],\n",
        "    'max_features': np.arange(5, 9),\n",
        "    'max_depth': np.arange(5, 15),\n",
        "}"
      ],
      "metadata": {
        "id": "alXsI5odZ1k1"
      },
      "execution_count": 1803,
      "outputs": []
    },
    {
      "cell_type": "code",
      "source": [
        "grid_search = GridSearchCV(estimator = RandomForestRegressor(random_state=100), param_grid=parameters, scoring='r2', cv=5)"
      ],
      "metadata": {
        "id": "vIQ4jzkbZ4Nd"
      },
      "execution_count": 1804,
      "outputs": []
    },
    {
      "cell_type": "markdown",
      "source": [
        "Перебираем параметры в поисках наилучших (работает минут 10, поэтому пусть будет закоменчено)"
      ],
      "metadata": {
        "id": "SEs1st0mKULJ"
      }
    },
    {
      "cell_type": "code",
      "source": [
        "#grid_search.fit(X_train, y_train);"
      ],
      "metadata": {
        "id": "fO2MdjU1aGIy"
      },
      "execution_count": 1805,
      "outputs": []
    },
    {
      "cell_type": "code",
      "source": [
        "#grid_search.best_params_"
      ],
      "metadata": {
        "id": "kGKVA22xaJoQ"
      },
      "execution_count": 1806,
      "outputs": []
    },
    {
      "cell_type": "markdown",
      "source": [
        "Создаем модель с подобранными параметрами"
      ],
      "metadata": {
        "id": "hbNZXJ7WKjIW"
      }
    },
    {
      "cell_type": "code",
      "source": [
        "model = RandomForestRegressor(n_estimators = 250, max_depth = 14, max_features = 5)"
      ],
      "metadata": {
        "id": "9aWQcUrLYlAg"
      },
      "execution_count": 1807,
      "outputs": []
    },
    {
      "cell_type": "markdown",
      "source": [
        "Обучаем ее на тренировочных данных"
      ],
      "metadata": {
        "id": "L3GdiXPKKnlB"
      }
    },
    {
      "cell_type": "code",
      "source": [
        "model.fit(X_train, y_train.values[:, 0])"
      ],
      "metadata": {
        "colab": {
          "base_uri": "https://localhost:8080/"
        },
        "id": "m50bETzDY7kq",
        "outputId": "57dc4122-15b8-477a-cb24-ca6c52d0a6ad"
      },
      "execution_count": 1808,
      "outputs": [
        {
          "output_type": "execute_result",
          "data": {
            "text/plain": [
              "RandomForestRegressor(max_depth=14, max_features=5, n_estimators=250)"
            ]
          },
          "metadata": {},
          "execution_count": 1808
        }
      ]
    },
    {
      "cell_type": "markdown",
      "source": [
        "Посмотрим, насколько отличаются предсказанные и имеющиеся данные"
      ],
      "metadata": {
        "id": "b6EefF7VKs5S"
      }
    },
    {
      "cell_type": "code",
      "source": [
        "y_predict_RFR = model.predict(X_valid)"
      ],
      "metadata": {
        "id": "xekjDRDPZBOW"
      },
      "execution_count": 1809,
      "outputs": []
    },
    {
      "cell_type": "code",
      "source": [
        "checking = pd.DataFrame({\n",
        "    \"y_valid\": y_valid[\"Price\"],\n",
        "    \"y_predict_RFR\": y_predict_RFR.flatten(),\n",
        "})\n",
        "\n",
        "checking.head(10)"
      ],
      "metadata": {
        "colab": {
          "base_uri": "https://localhost:8080/",
          "height": 363
        },
        "id": "P1G4fLSSZT4H",
        "outputId": "3a47598f-ddd6-4bf6-98b9-d44d35426afe"
      },
      "execution_count": 1810,
      "outputs": [
        {
          "output_type": "execute_result",
          "data": {
            "text/plain": [
              "            y_valid  y_predict_RFR\n",
              "6699  212801.122972  220546.773049\n",
              "343   522197.035995  414505.679848\n",
              "5573  162283.825316  181622.161128\n",
              "9162  438459.651986  262510.168355\n",
              "8595  552454.338658  342365.912224\n",
              "7495  201501.534582  189988.666829\n",
              "6783  149194.221639  153711.149857\n",
              "7516  557202.351363  402184.448235\n",
              "6394   89917.923051  191604.447756\n",
              "7094  132930.266226  144734.448106"
            ],
            "text/html": [
              "\n",
              "  <div id=\"df-e253d5b7-f6f2-44a8-a786-ffc0a9477d3a\">\n",
              "    <div class=\"colab-df-container\">\n",
              "      <div>\n",
              "<style scoped>\n",
              "    .dataframe tbody tr th:only-of-type {\n",
              "        vertical-align: middle;\n",
              "    }\n",
              "\n",
              "    .dataframe tbody tr th {\n",
              "        vertical-align: top;\n",
              "    }\n",
              "\n",
              "    .dataframe thead th {\n",
              "        text-align: right;\n",
              "    }\n",
              "</style>\n",
              "<table border=\"1\" class=\"dataframe\">\n",
              "  <thead>\n",
              "    <tr style=\"text-align: right;\">\n",
              "      <th></th>\n",
              "      <th>y_valid</th>\n",
              "      <th>y_predict_RFR</th>\n",
              "    </tr>\n",
              "  </thead>\n",
              "  <tbody>\n",
              "    <tr>\n",
              "      <th>6699</th>\n",
              "      <td>212801.122972</td>\n",
              "      <td>220546.773049</td>\n",
              "    </tr>\n",
              "    <tr>\n",
              "      <th>343</th>\n",
              "      <td>522197.035995</td>\n",
              "      <td>414505.679848</td>\n",
              "    </tr>\n",
              "    <tr>\n",
              "      <th>5573</th>\n",
              "      <td>162283.825316</td>\n",
              "      <td>181622.161128</td>\n",
              "    </tr>\n",
              "    <tr>\n",
              "      <th>9162</th>\n",
              "      <td>438459.651986</td>\n",
              "      <td>262510.168355</td>\n",
              "    </tr>\n",
              "    <tr>\n",
              "      <th>8595</th>\n",
              "      <td>552454.338658</td>\n",
              "      <td>342365.912224</td>\n",
              "    </tr>\n",
              "    <tr>\n",
              "      <th>7495</th>\n",
              "      <td>201501.534582</td>\n",
              "      <td>189988.666829</td>\n",
              "    </tr>\n",
              "    <tr>\n",
              "      <th>6783</th>\n",
              "      <td>149194.221639</td>\n",
              "      <td>153711.149857</td>\n",
              "    </tr>\n",
              "    <tr>\n",
              "      <th>7516</th>\n",
              "      <td>557202.351363</td>\n",
              "      <td>402184.448235</td>\n",
              "    </tr>\n",
              "    <tr>\n",
              "      <th>6394</th>\n",
              "      <td>89917.923051</td>\n",
              "      <td>191604.447756</td>\n",
              "    </tr>\n",
              "    <tr>\n",
              "      <th>7094</th>\n",
              "      <td>132930.266226</td>\n",
              "      <td>144734.448106</td>\n",
              "    </tr>\n",
              "  </tbody>\n",
              "</table>\n",
              "</div>\n",
              "      <button class=\"colab-df-convert\" onclick=\"convertToInteractive('df-e253d5b7-f6f2-44a8-a786-ffc0a9477d3a')\"\n",
              "              title=\"Convert this dataframe to an interactive table.\"\n",
              "              style=\"display:none;\">\n",
              "        \n",
              "  <svg xmlns=\"http://www.w3.org/2000/svg\" height=\"24px\"viewBox=\"0 0 24 24\"\n",
              "       width=\"24px\">\n",
              "    <path d=\"M0 0h24v24H0V0z\" fill=\"none\"/>\n",
              "    <path d=\"M18.56 5.44l.94 2.06.94-2.06 2.06-.94-2.06-.94-.94-2.06-.94 2.06-2.06.94zm-11 1L8.5 8.5l.94-2.06 2.06-.94-2.06-.94L8.5 2.5l-.94 2.06-2.06.94zm10 10l.94 2.06.94-2.06 2.06-.94-2.06-.94-.94-2.06-.94 2.06-2.06.94z\"/><path d=\"M17.41 7.96l-1.37-1.37c-.4-.4-.92-.59-1.43-.59-.52 0-1.04.2-1.43.59L10.3 9.45l-7.72 7.72c-.78.78-.78 2.05 0 2.83L4 21.41c.39.39.9.59 1.41.59.51 0 1.02-.2 1.41-.59l7.78-7.78 2.81-2.81c.8-.78.8-2.07 0-2.86zM5.41 20L4 18.59l7.72-7.72 1.47 1.35L5.41 20z\"/>\n",
              "  </svg>\n",
              "      </button>\n",
              "      \n",
              "  <style>\n",
              "    .colab-df-container {\n",
              "      display:flex;\n",
              "      flex-wrap:wrap;\n",
              "      gap: 12px;\n",
              "    }\n",
              "\n",
              "    .colab-df-convert {\n",
              "      background-color: #E8F0FE;\n",
              "      border: none;\n",
              "      border-radius: 50%;\n",
              "      cursor: pointer;\n",
              "      display: none;\n",
              "      fill: #1967D2;\n",
              "      height: 32px;\n",
              "      padding: 0 0 0 0;\n",
              "      width: 32px;\n",
              "    }\n",
              "\n",
              "    .colab-df-convert:hover {\n",
              "      background-color: #E2EBFA;\n",
              "      box-shadow: 0px 1px 2px rgba(60, 64, 67, 0.3), 0px 1px 3px 1px rgba(60, 64, 67, 0.15);\n",
              "      fill: #174EA6;\n",
              "    }\n",
              "\n",
              "    [theme=dark] .colab-df-convert {\n",
              "      background-color: #3B4455;\n",
              "      fill: #D2E3FC;\n",
              "    }\n",
              "\n",
              "    [theme=dark] .colab-df-convert:hover {\n",
              "      background-color: #434B5C;\n",
              "      box-shadow: 0px 1px 3px 1px rgba(0, 0, 0, 0.15);\n",
              "      filter: drop-shadow(0px 1px 2px rgba(0, 0, 0, 0.3));\n",
              "      fill: #FFFFFF;\n",
              "    }\n",
              "  </style>\n",
              "\n",
              "      <script>\n",
              "        const buttonEl =\n",
              "          document.querySelector('#df-e253d5b7-f6f2-44a8-a786-ffc0a9477d3a button.colab-df-convert');\n",
              "        buttonEl.style.display =\n",
              "          google.colab.kernel.accessAllowed ? 'block' : 'none';\n",
              "\n",
              "        async function convertToInteractive(key) {\n",
              "          const element = document.querySelector('#df-e253d5b7-f6f2-44a8-a786-ffc0a9477d3a');\n",
              "          const dataTable =\n",
              "            await google.colab.kernel.invokeFunction('convertToInteractive',\n",
              "                                                     [key], {});\n",
              "          if (!dataTable) return;\n",
              "\n",
              "          const docLinkHtml = 'Like what you see? Visit the ' +\n",
              "            '<a target=\"_blank\" href=https://colab.research.google.com/notebooks/data_table.ipynb>data table notebook</a>'\n",
              "            + ' to learn more about interactive tables.';\n",
              "          element.innerHTML = '';\n",
              "          dataTable['output_type'] = 'display_data';\n",
              "          await google.colab.output.renderOutput(dataTable, element);\n",
              "          const docLink = document.createElement('div');\n",
              "          docLink.innerHTML = docLinkHtml;\n",
              "          element.appendChild(docLink);\n",
              "        }\n",
              "      </script>\n",
              "    </div>\n",
              "  </div>\n",
              "  "
            ]
          },
          "metadata": {},
          "execution_count": 1810
        }
      ]
    },
    {
      "cell_type": "code",
      "source": [
        "checking[\"error\"] = checking[\"y_predict_RFR\"] - checking[\"y_valid\"]\n",
        "\n",
        "checking.head(10)"
      ],
      "metadata": {
        "colab": {
          "base_uri": "https://localhost:8080/",
          "height": 363
        },
        "id": "jrIpXHLiMdcz",
        "outputId": "fdf43b5c-dd8f-4d3b-c0ab-6d6976056230"
      },
      "execution_count": 1811,
      "outputs": [
        {
          "output_type": "execute_result",
          "data": {
            "text/plain": [
              "            y_valid  y_predict_RFR          error\n",
              "6699  212801.122972  220546.773049    7745.650078\n",
              "343   522197.035995  414505.679848 -107691.356147\n",
              "5573  162283.825316  181622.161128   19338.335813\n",
              "9162  438459.651986  262510.168355 -175949.483631\n",
              "8595  552454.338658  342365.912224 -210088.426434\n",
              "7495  201501.534582  189988.666829  -11512.867754\n",
              "6783  149194.221639  153711.149857    4516.928218\n",
              "7516  557202.351363  402184.448235 -155017.903128\n",
              "6394   89917.923051  191604.447756  101686.524705\n",
              "7094  132930.266226  144734.448106   11804.181881"
            ],
            "text/html": [
              "\n",
              "  <div id=\"df-8865a2c8-7dcc-47c3-8ad6-42a222bdb0ea\">\n",
              "    <div class=\"colab-df-container\">\n",
              "      <div>\n",
              "<style scoped>\n",
              "    .dataframe tbody tr th:only-of-type {\n",
              "        vertical-align: middle;\n",
              "    }\n",
              "\n",
              "    .dataframe tbody tr th {\n",
              "        vertical-align: top;\n",
              "    }\n",
              "\n",
              "    .dataframe thead th {\n",
              "        text-align: right;\n",
              "    }\n",
              "</style>\n",
              "<table border=\"1\" class=\"dataframe\">\n",
              "  <thead>\n",
              "    <tr style=\"text-align: right;\">\n",
              "      <th></th>\n",
              "      <th>y_valid</th>\n",
              "      <th>y_predict_RFR</th>\n",
              "      <th>error</th>\n",
              "    </tr>\n",
              "  </thead>\n",
              "  <tbody>\n",
              "    <tr>\n",
              "      <th>6699</th>\n",
              "      <td>212801.122972</td>\n",
              "      <td>220546.773049</td>\n",
              "      <td>7745.650078</td>\n",
              "    </tr>\n",
              "    <tr>\n",
              "      <th>343</th>\n",
              "      <td>522197.035995</td>\n",
              "      <td>414505.679848</td>\n",
              "      <td>-107691.356147</td>\n",
              "    </tr>\n",
              "    <tr>\n",
              "      <th>5573</th>\n",
              "      <td>162283.825316</td>\n",
              "      <td>181622.161128</td>\n",
              "      <td>19338.335813</td>\n",
              "    </tr>\n",
              "    <tr>\n",
              "      <th>9162</th>\n",
              "      <td>438459.651986</td>\n",
              "      <td>262510.168355</td>\n",
              "      <td>-175949.483631</td>\n",
              "    </tr>\n",
              "    <tr>\n",
              "      <th>8595</th>\n",
              "      <td>552454.338658</td>\n",
              "      <td>342365.912224</td>\n",
              "      <td>-210088.426434</td>\n",
              "    </tr>\n",
              "    <tr>\n",
              "      <th>7495</th>\n",
              "      <td>201501.534582</td>\n",
              "      <td>189988.666829</td>\n",
              "      <td>-11512.867754</td>\n",
              "    </tr>\n",
              "    <tr>\n",
              "      <th>6783</th>\n",
              "      <td>149194.221639</td>\n",
              "      <td>153711.149857</td>\n",
              "      <td>4516.928218</td>\n",
              "    </tr>\n",
              "    <tr>\n",
              "      <th>7516</th>\n",
              "      <td>557202.351363</td>\n",
              "      <td>402184.448235</td>\n",
              "      <td>-155017.903128</td>\n",
              "    </tr>\n",
              "    <tr>\n",
              "      <th>6394</th>\n",
              "      <td>89917.923051</td>\n",
              "      <td>191604.447756</td>\n",
              "      <td>101686.524705</td>\n",
              "    </tr>\n",
              "    <tr>\n",
              "      <th>7094</th>\n",
              "      <td>132930.266226</td>\n",
              "      <td>144734.448106</td>\n",
              "      <td>11804.181881</td>\n",
              "    </tr>\n",
              "  </tbody>\n",
              "</table>\n",
              "</div>\n",
              "      <button class=\"colab-df-convert\" onclick=\"convertToInteractive('df-8865a2c8-7dcc-47c3-8ad6-42a222bdb0ea')\"\n",
              "              title=\"Convert this dataframe to an interactive table.\"\n",
              "              style=\"display:none;\">\n",
              "        \n",
              "  <svg xmlns=\"http://www.w3.org/2000/svg\" height=\"24px\"viewBox=\"0 0 24 24\"\n",
              "       width=\"24px\">\n",
              "    <path d=\"M0 0h24v24H0V0z\" fill=\"none\"/>\n",
              "    <path d=\"M18.56 5.44l.94 2.06.94-2.06 2.06-.94-2.06-.94-.94-2.06-.94 2.06-2.06.94zm-11 1L8.5 8.5l.94-2.06 2.06-.94-2.06-.94L8.5 2.5l-.94 2.06-2.06.94zm10 10l.94 2.06.94-2.06 2.06-.94-2.06-.94-.94-2.06-.94 2.06-2.06.94z\"/><path d=\"M17.41 7.96l-1.37-1.37c-.4-.4-.92-.59-1.43-.59-.52 0-1.04.2-1.43.59L10.3 9.45l-7.72 7.72c-.78.78-.78 2.05 0 2.83L4 21.41c.39.39.9.59 1.41.59.51 0 1.02-.2 1.41-.59l7.78-7.78 2.81-2.81c.8-.78.8-2.07 0-2.86zM5.41 20L4 18.59l7.72-7.72 1.47 1.35L5.41 20z\"/>\n",
              "  </svg>\n",
              "      </button>\n",
              "      \n",
              "  <style>\n",
              "    .colab-df-container {\n",
              "      display:flex;\n",
              "      flex-wrap:wrap;\n",
              "      gap: 12px;\n",
              "    }\n",
              "\n",
              "    .colab-df-convert {\n",
              "      background-color: #E8F0FE;\n",
              "      border: none;\n",
              "      border-radius: 50%;\n",
              "      cursor: pointer;\n",
              "      display: none;\n",
              "      fill: #1967D2;\n",
              "      height: 32px;\n",
              "      padding: 0 0 0 0;\n",
              "      width: 32px;\n",
              "    }\n",
              "\n",
              "    .colab-df-convert:hover {\n",
              "      background-color: #E2EBFA;\n",
              "      box-shadow: 0px 1px 2px rgba(60, 64, 67, 0.3), 0px 1px 3px 1px rgba(60, 64, 67, 0.15);\n",
              "      fill: #174EA6;\n",
              "    }\n",
              "\n",
              "    [theme=dark] .colab-df-convert {\n",
              "      background-color: #3B4455;\n",
              "      fill: #D2E3FC;\n",
              "    }\n",
              "\n",
              "    [theme=dark] .colab-df-convert:hover {\n",
              "      background-color: #434B5C;\n",
              "      box-shadow: 0px 1px 3px 1px rgba(0, 0, 0, 0.15);\n",
              "      filter: drop-shadow(0px 1px 2px rgba(0, 0, 0, 0.3));\n",
              "      fill: #FFFFFF;\n",
              "    }\n",
              "  </style>\n",
              "\n",
              "      <script>\n",
              "        const buttonEl =\n",
              "          document.querySelector('#df-8865a2c8-7dcc-47c3-8ad6-42a222bdb0ea button.colab-df-convert');\n",
              "        buttonEl.style.display =\n",
              "          google.colab.kernel.accessAllowed ? 'block' : 'none';\n",
              "\n",
              "        async function convertToInteractive(key) {\n",
              "          const element = document.querySelector('#df-8865a2c8-7dcc-47c3-8ad6-42a222bdb0ea');\n",
              "          const dataTable =\n",
              "            await google.colab.kernel.invokeFunction('convertToInteractive',\n",
              "                                                     [key], {});\n",
              "          if (!dataTable) return;\n",
              "\n",
              "          const docLinkHtml = 'Like what you see? Visit the ' +\n",
              "            '<a target=\"_blank\" href=https://colab.research.google.com/notebooks/data_table.ipynb>data table notebook</a>'\n",
              "            + ' to learn more about interactive tables.';\n",
              "          element.innerHTML = '';\n",
              "          dataTable['output_type'] = 'display_data';\n",
              "          await google.colab.output.renderOutput(dataTable, element);\n",
              "          const docLink = document.createElement('div');\n",
              "          docLink.innerHTML = docLinkHtml;\n",
              "          element.appendChild(docLink);\n",
              "        }\n",
              "      </script>\n",
              "    </div>\n",
              "  </div>\n",
              "  "
            ]
          },
          "metadata": {},
          "execution_count": 1811
        }
      ]
    },
    {
      "cell_type": "markdown",
      "source": [
        "Рассчитаем коэффициент детерминации"
      ],
      "metadata": {
        "id": "G9lN_LmxK5FW"
      }
    },
    {
      "cell_type": "code",
      "source": [
        "R2 = r2_score(checking[\"y_valid\"], checking[\"y_predict_RFR\"])\n",
        "R2"
      ],
      "metadata": {
        "colab": {
          "base_uri": "https://localhost:8080/"
        },
        "id": "c7CAi3-uZWUS",
        "outputId": "cd18d631-e038-4742-fd52-e0f96e23ce53"
      },
      "execution_count": 1812,
      "outputs": [
        {
          "output_type": "execute_result",
          "data": {
            "text/plain": [
              "0.7131367496074379"
            ]
          },
          "metadata": {},
          "execution_count": 1812
        }
      ]
    },
    {
      "cell_type": "markdown",
      "source": [
        "#Испробуем модель на тестовых данных"
      ],
      "metadata": {
        "id": "28ZT5Y11ALv3"
      }
    },
    {
      "cell_type": "markdown",
      "source": [
        "Заменяем буквенные значения на числовые, как в train"
      ],
      "metadata": {
        "id": "9XFrFMGhK94L"
      }
    },
    {
      "cell_type": "code",
      "source": [
        "abc_replace(data_test)"
      ],
      "metadata": {
        "id": "UM58vRWJAVJy"
      },
      "execution_count": 1813,
      "outputs": []
    },
    {
      "cell_type": "markdown",
      "source": [
        "Заполняем пропущенные значения, как в train"
      ],
      "metadata": {
        "id": "W7ufZzBNLE1e"
      }
    },
    {
      "cell_type": "code",
      "source": [
        "Healthcare_1_fillna(data_test, mean_Healthcare_1)"
      ],
      "metadata": {
        "id": "ppKQ24mcLtxA"
      },
      "execution_count": 1814,
      "outputs": []
    },
    {
      "cell_type": "code",
      "source": [
        "data_test.loc[:, 'LifeSquare'].fillna(data_test['Square']*mean_LifeSquare_count, inplace=True)"
      ],
      "metadata": {
        "id": "pW8WGh2XAu7N"
      },
      "execution_count": 1815,
      "outputs": []
    },
    {
      "cell_type": "code",
      "source": [
        "y_predict_RFR = model.predict(data_test)"
      ],
      "metadata": {
        "id": "q-y97bAHBPFq"
      },
      "execution_count": 1816,
      "outputs": []
    },
    {
      "cell_type": "code",
      "source": [
        "y_predict_RFR = pd.DataFrame(data=y_predict_RFR)\n",
        "y_predict_RFR"
      ],
      "metadata": {
        "colab": {
          "base_uri": "https://localhost:8080/",
          "height": 424
        },
        "id": "lKr5dveaCFx4",
        "outputId": "2c12ea5c-4905-47fd-bd44-8f742fb2fd9f"
      },
      "execution_count": 1817,
      "outputs": [
        {
          "output_type": "execute_result",
          "data": {
            "text/plain": [
              "                  0\n",
              "0     165707.896198\n",
              "1     221228.469305\n",
              "2     216774.069400\n",
              "3     337257.699463\n",
              "4     143143.940387\n",
              "...             ...\n",
              "4995  256281.533048\n",
              "4996  133454.631074\n",
              "4997  323725.607951\n",
              "4998  197227.436097\n",
              "4999  170748.123002\n",
              "\n",
              "[5000 rows x 1 columns]"
            ],
            "text/html": [
              "\n",
              "  <div id=\"df-402fde66-28a8-424d-90e0-d84d378d47e9\">\n",
              "    <div class=\"colab-df-container\">\n",
              "      <div>\n",
              "<style scoped>\n",
              "    .dataframe tbody tr th:only-of-type {\n",
              "        vertical-align: middle;\n",
              "    }\n",
              "\n",
              "    .dataframe tbody tr th {\n",
              "        vertical-align: top;\n",
              "    }\n",
              "\n",
              "    .dataframe thead th {\n",
              "        text-align: right;\n",
              "    }\n",
              "</style>\n",
              "<table border=\"1\" class=\"dataframe\">\n",
              "  <thead>\n",
              "    <tr style=\"text-align: right;\">\n",
              "      <th></th>\n",
              "      <th>0</th>\n",
              "    </tr>\n",
              "  </thead>\n",
              "  <tbody>\n",
              "    <tr>\n",
              "      <th>0</th>\n",
              "      <td>165707.896198</td>\n",
              "    </tr>\n",
              "    <tr>\n",
              "      <th>1</th>\n",
              "      <td>221228.469305</td>\n",
              "    </tr>\n",
              "    <tr>\n",
              "      <th>2</th>\n",
              "      <td>216774.069400</td>\n",
              "    </tr>\n",
              "    <tr>\n",
              "      <th>3</th>\n",
              "      <td>337257.699463</td>\n",
              "    </tr>\n",
              "    <tr>\n",
              "      <th>4</th>\n",
              "      <td>143143.940387</td>\n",
              "    </tr>\n",
              "    <tr>\n",
              "      <th>...</th>\n",
              "      <td>...</td>\n",
              "    </tr>\n",
              "    <tr>\n",
              "      <th>4995</th>\n",
              "      <td>256281.533048</td>\n",
              "    </tr>\n",
              "    <tr>\n",
              "      <th>4996</th>\n",
              "      <td>133454.631074</td>\n",
              "    </tr>\n",
              "    <tr>\n",
              "      <th>4997</th>\n",
              "      <td>323725.607951</td>\n",
              "    </tr>\n",
              "    <tr>\n",
              "      <th>4998</th>\n",
              "      <td>197227.436097</td>\n",
              "    </tr>\n",
              "    <tr>\n",
              "      <th>4999</th>\n",
              "      <td>170748.123002</td>\n",
              "    </tr>\n",
              "  </tbody>\n",
              "</table>\n",
              "<p>5000 rows × 1 columns</p>\n",
              "</div>\n",
              "      <button class=\"colab-df-convert\" onclick=\"convertToInteractive('df-402fde66-28a8-424d-90e0-d84d378d47e9')\"\n",
              "              title=\"Convert this dataframe to an interactive table.\"\n",
              "              style=\"display:none;\">\n",
              "        \n",
              "  <svg xmlns=\"http://www.w3.org/2000/svg\" height=\"24px\"viewBox=\"0 0 24 24\"\n",
              "       width=\"24px\">\n",
              "    <path d=\"M0 0h24v24H0V0z\" fill=\"none\"/>\n",
              "    <path d=\"M18.56 5.44l.94 2.06.94-2.06 2.06-.94-2.06-.94-.94-2.06-.94 2.06-2.06.94zm-11 1L8.5 8.5l.94-2.06 2.06-.94-2.06-.94L8.5 2.5l-.94 2.06-2.06.94zm10 10l.94 2.06.94-2.06 2.06-.94-2.06-.94-.94-2.06-.94 2.06-2.06.94z\"/><path d=\"M17.41 7.96l-1.37-1.37c-.4-.4-.92-.59-1.43-.59-.52 0-1.04.2-1.43.59L10.3 9.45l-7.72 7.72c-.78.78-.78 2.05 0 2.83L4 21.41c.39.39.9.59 1.41.59.51 0 1.02-.2 1.41-.59l7.78-7.78 2.81-2.81c.8-.78.8-2.07 0-2.86zM5.41 20L4 18.59l7.72-7.72 1.47 1.35L5.41 20z\"/>\n",
              "  </svg>\n",
              "      </button>\n",
              "      \n",
              "  <style>\n",
              "    .colab-df-container {\n",
              "      display:flex;\n",
              "      flex-wrap:wrap;\n",
              "      gap: 12px;\n",
              "    }\n",
              "\n",
              "    .colab-df-convert {\n",
              "      background-color: #E8F0FE;\n",
              "      border: none;\n",
              "      border-radius: 50%;\n",
              "      cursor: pointer;\n",
              "      display: none;\n",
              "      fill: #1967D2;\n",
              "      height: 32px;\n",
              "      padding: 0 0 0 0;\n",
              "      width: 32px;\n",
              "    }\n",
              "\n",
              "    .colab-df-convert:hover {\n",
              "      background-color: #E2EBFA;\n",
              "      box-shadow: 0px 1px 2px rgba(60, 64, 67, 0.3), 0px 1px 3px 1px rgba(60, 64, 67, 0.15);\n",
              "      fill: #174EA6;\n",
              "    }\n",
              "\n",
              "    [theme=dark] .colab-df-convert {\n",
              "      background-color: #3B4455;\n",
              "      fill: #D2E3FC;\n",
              "    }\n",
              "\n",
              "    [theme=dark] .colab-df-convert:hover {\n",
              "      background-color: #434B5C;\n",
              "      box-shadow: 0px 1px 3px 1px rgba(0, 0, 0, 0.15);\n",
              "      filter: drop-shadow(0px 1px 2px rgba(0, 0, 0, 0.3));\n",
              "      fill: #FFFFFF;\n",
              "    }\n",
              "  </style>\n",
              "\n",
              "      <script>\n",
              "        const buttonEl =\n",
              "          document.querySelector('#df-402fde66-28a8-424d-90e0-d84d378d47e9 button.colab-df-convert');\n",
              "        buttonEl.style.display =\n",
              "          google.colab.kernel.accessAllowed ? 'block' : 'none';\n",
              "\n",
              "        async function convertToInteractive(key) {\n",
              "          const element = document.querySelector('#df-402fde66-28a8-424d-90e0-d84d378d47e9');\n",
              "          const dataTable =\n",
              "            await google.colab.kernel.invokeFunction('convertToInteractive',\n",
              "                                                     [key], {});\n",
              "          if (!dataTable) return;\n",
              "\n",
              "          const docLinkHtml = 'Like what you see? Visit the ' +\n",
              "            '<a target=\"_blank\" href=https://colab.research.google.com/notebooks/data_table.ipynb>data table notebook</a>'\n",
              "            + ' to learn more about interactive tables.';\n",
              "          element.innerHTML = '';\n",
              "          dataTable['output_type'] = 'display_data';\n",
              "          await google.colab.output.renderOutput(dataTable, element);\n",
              "          const docLink = document.createElement('div');\n",
              "          docLink.innerHTML = docLinkHtml;\n",
              "          element.appendChild(docLink);\n",
              "        }\n",
              "      </script>\n",
              "    </div>\n",
              "  </div>\n",
              "  "
            ]
          },
          "metadata": {},
          "execution_count": 1817
        }
      ]
    },
    {
      "cell_type": "code",
      "source": [
        "id = pd.DataFrame(data_test['Id'])\n",
        "id"
      ],
      "metadata": {
        "colab": {
          "base_uri": "https://localhost:8080/",
          "height": 424
        },
        "id": "72RmJca5CJNQ",
        "outputId": "543a74b4-8b5a-4861-abbf-5a3ddec0f97e"
      },
      "execution_count": 1818,
      "outputs": [
        {
          "output_type": "execute_result",
          "data": {
            "text/plain": [
              "         Id\n",
              "0       725\n",
              "1     15856\n",
              "2      5480\n",
              "3     15664\n",
              "4     14275\n",
              "...     ...\n",
              "4995   8180\n",
              "4996   4695\n",
              "4997   5783\n",
              "4998   4780\n",
              "4999  12504\n",
              "\n",
              "[5000 rows x 1 columns]"
            ],
            "text/html": [
              "\n",
              "  <div id=\"df-51ee7cba-ba47-4dfb-b4d5-a1a53552178a\">\n",
              "    <div class=\"colab-df-container\">\n",
              "      <div>\n",
              "<style scoped>\n",
              "    .dataframe tbody tr th:only-of-type {\n",
              "        vertical-align: middle;\n",
              "    }\n",
              "\n",
              "    .dataframe tbody tr th {\n",
              "        vertical-align: top;\n",
              "    }\n",
              "\n",
              "    .dataframe thead th {\n",
              "        text-align: right;\n",
              "    }\n",
              "</style>\n",
              "<table border=\"1\" class=\"dataframe\">\n",
              "  <thead>\n",
              "    <tr style=\"text-align: right;\">\n",
              "      <th></th>\n",
              "      <th>Id</th>\n",
              "    </tr>\n",
              "  </thead>\n",
              "  <tbody>\n",
              "    <tr>\n",
              "      <th>0</th>\n",
              "      <td>725</td>\n",
              "    </tr>\n",
              "    <tr>\n",
              "      <th>1</th>\n",
              "      <td>15856</td>\n",
              "    </tr>\n",
              "    <tr>\n",
              "      <th>2</th>\n",
              "      <td>5480</td>\n",
              "    </tr>\n",
              "    <tr>\n",
              "      <th>3</th>\n",
              "      <td>15664</td>\n",
              "    </tr>\n",
              "    <tr>\n",
              "      <th>4</th>\n",
              "      <td>14275</td>\n",
              "    </tr>\n",
              "    <tr>\n",
              "      <th>...</th>\n",
              "      <td>...</td>\n",
              "    </tr>\n",
              "    <tr>\n",
              "      <th>4995</th>\n",
              "      <td>8180</td>\n",
              "    </tr>\n",
              "    <tr>\n",
              "      <th>4996</th>\n",
              "      <td>4695</td>\n",
              "    </tr>\n",
              "    <tr>\n",
              "      <th>4997</th>\n",
              "      <td>5783</td>\n",
              "    </tr>\n",
              "    <tr>\n",
              "      <th>4998</th>\n",
              "      <td>4780</td>\n",
              "    </tr>\n",
              "    <tr>\n",
              "      <th>4999</th>\n",
              "      <td>12504</td>\n",
              "    </tr>\n",
              "  </tbody>\n",
              "</table>\n",
              "<p>5000 rows × 1 columns</p>\n",
              "</div>\n",
              "      <button class=\"colab-df-convert\" onclick=\"convertToInteractive('df-51ee7cba-ba47-4dfb-b4d5-a1a53552178a')\"\n",
              "              title=\"Convert this dataframe to an interactive table.\"\n",
              "              style=\"display:none;\">\n",
              "        \n",
              "  <svg xmlns=\"http://www.w3.org/2000/svg\" height=\"24px\"viewBox=\"0 0 24 24\"\n",
              "       width=\"24px\">\n",
              "    <path d=\"M0 0h24v24H0V0z\" fill=\"none\"/>\n",
              "    <path d=\"M18.56 5.44l.94 2.06.94-2.06 2.06-.94-2.06-.94-.94-2.06-.94 2.06-2.06.94zm-11 1L8.5 8.5l.94-2.06 2.06-.94-2.06-.94L8.5 2.5l-.94 2.06-2.06.94zm10 10l.94 2.06.94-2.06 2.06-.94-2.06-.94-.94-2.06-.94 2.06-2.06.94z\"/><path d=\"M17.41 7.96l-1.37-1.37c-.4-.4-.92-.59-1.43-.59-.52 0-1.04.2-1.43.59L10.3 9.45l-7.72 7.72c-.78.78-.78 2.05 0 2.83L4 21.41c.39.39.9.59 1.41.59.51 0 1.02-.2 1.41-.59l7.78-7.78 2.81-2.81c.8-.78.8-2.07 0-2.86zM5.41 20L4 18.59l7.72-7.72 1.47 1.35L5.41 20z\"/>\n",
              "  </svg>\n",
              "      </button>\n",
              "      \n",
              "  <style>\n",
              "    .colab-df-container {\n",
              "      display:flex;\n",
              "      flex-wrap:wrap;\n",
              "      gap: 12px;\n",
              "    }\n",
              "\n",
              "    .colab-df-convert {\n",
              "      background-color: #E8F0FE;\n",
              "      border: none;\n",
              "      border-radius: 50%;\n",
              "      cursor: pointer;\n",
              "      display: none;\n",
              "      fill: #1967D2;\n",
              "      height: 32px;\n",
              "      padding: 0 0 0 0;\n",
              "      width: 32px;\n",
              "    }\n",
              "\n",
              "    .colab-df-convert:hover {\n",
              "      background-color: #E2EBFA;\n",
              "      box-shadow: 0px 1px 2px rgba(60, 64, 67, 0.3), 0px 1px 3px 1px rgba(60, 64, 67, 0.15);\n",
              "      fill: #174EA6;\n",
              "    }\n",
              "\n",
              "    [theme=dark] .colab-df-convert {\n",
              "      background-color: #3B4455;\n",
              "      fill: #D2E3FC;\n",
              "    }\n",
              "\n",
              "    [theme=dark] .colab-df-convert:hover {\n",
              "      background-color: #434B5C;\n",
              "      box-shadow: 0px 1px 3px 1px rgba(0, 0, 0, 0.15);\n",
              "      filter: drop-shadow(0px 1px 2px rgba(0, 0, 0, 0.3));\n",
              "      fill: #FFFFFF;\n",
              "    }\n",
              "  </style>\n",
              "\n",
              "      <script>\n",
              "        const buttonEl =\n",
              "          document.querySelector('#df-51ee7cba-ba47-4dfb-b4d5-a1a53552178a button.colab-df-convert');\n",
              "        buttonEl.style.display =\n",
              "          google.colab.kernel.accessAllowed ? 'block' : 'none';\n",
              "\n",
              "        async function convertToInteractive(key) {\n",
              "          const element = document.querySelector('#df-51ee7cba-ba47-4dfb-b4d5-a1a53552178a');\n",
              "          const dataTable =\n",
              "            await google.colab.kernel.invokeFunction('convertToInteractive',\n",
              "                                                     [key], {});\n",
              "          if (!dataTable) return;\n",
              "\n",
              "          const docLinkHtml = 'Like what you see? Visit the ' +\n",
              "            '<a target=\"_blank\" href=https://colab.research.google.com/notebooks/data_table.ipynb>data table notebook</a>'\n",
              "            + ' to learn more about interactive tables.';\n",
              "          element.innerHTML = '';\n",
              "          dataTable['output_type'] = 'display_data';\n",
              "          await google.colab.output.renderOutput(dataTable, element);\n",
              "          const docLink = document.createElement('div');\n",
              "          docLink.innerHTML = docLinkHtml;\n",
              "          element.appendChild(docLink);\n",
              "        }\n",
              "      </script>\n",
              "    </div>\n",
              "  </div>\n",
              "  "
            ]
          },
          "metadata": {},
          "execution_count": 1818
        }
      ]
    },
    {
      "cell_type": "code",
      "source": [
        "prediction = pd.concat([id, y_predict_RFR], axis = 1, ignore_index=True)\n",
        "prediction.columns = ['Id', 'Price']"
      ],
      "metadata": {
        "id": "Zlw15lq_DWmK"
      },
      "execution_count": 1819,
      "outputs": []
    },
    {
      "cell_type": "code",
      "source": [
        "prediction.to_csv('/content/Alekseeva_predictions.csv', index=False)"
      ],
      "metadata": {
        "id": "jnEUG5ZYDkiQ"
      },
      "execution_count": 1820,
      "outputs": []
    },
    {
      "cell_type": "code",
      "source": [],
      "metadata": {
        "id": "eNeazhseFo70"
      },
      "execution_count": 1820,
      "outputs": []
    }
  ]
}